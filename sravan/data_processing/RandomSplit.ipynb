{
 "cells": [
  {
   "cell_type": "code",
   "execution_count": 1,
   "metadata": {},
   "outputs": [],
   "source": [
    "import os\n",
    "from os import listdir\n",
    "import os.path\n",
    "import numpy as np\n",
    "import random\n",
    "\n",
    "img_dir= \"/home/ec2-user/SageMaker/efs/amazon-bin/data/bin-images-resize/\"\n",
    "meta_dir = \"/home/ec2-user/SageMaker/efs/amazon-bin/data/metadata/\"\n",
    "\n",
    "#img_list = listdir(img_dir)\n",
    "#N = len(img_list)\n",
    "N = 535234\n",
    "list_random = range(N)\n",
    "random.shuffle(list_random)\n",
    "\n",
    "# finding images that metadata exists\n",
    "meta_avail = np.zeros(N, dtype=bool)\n",
    "for i in range(N):\n",
    "    meta_fname = os.path.join(meta_dir,('%05d.json'%(i+1)))\n",
    "    if os.path.isfile(meta_fname):\n",
    "        meta_avail[i] = True\n",
    "\n",
    "# assign validataion set\n",
    "valset = np.zeros(N, dtype=bool)\n",
    "n_valset = int(round(N*0.1))\n",
    "count = 0\n",
    "random.shuffle(list_random)\n",
    "for i in range(N):\n",
    "    idx = list_random[i]\n",
    "    if meta_avail[idx]:\n",
    "        valset[idx]=True\n",
    "        count = count + 1\n",
    "        if count == n_valset:\n",
    "            break\n",
    "\n",
    "# writing out to textfile\n",
    "train_f = open('/home/ec2-user/SageMaker/efs/amazon-bin/input/random_train.txt','w')\n",
    "val_f = open('/home/ec2-user/SageMaker/efs/amazon-bin/input/random_val.txt','w')\n",
    "for i in range(N):\n",
    "    if meta_avail[i]:\n",
    "        if valset[i]:\n",
    "            val_f.write(\"%d\\n\" % (i+1))\n",
    "        else:\n",
    "            train_f.write(\"%d\\n\" % (i+1))\n",
    "train_f.close()\n",
    "val_f.close()"
   ]
  },
  {
   "cell_type": "code",
   "execution_count": null,
   "metadata": {},
   "outputs": [],
   "source": []
  }
 ],
 "metadata": {
  "kernelspec": {
   "display_name": "conda_python2",
   "language": "python",
   "name": "conda_python2"
  },
  "language_info": {
   "codemirror_mode": {
    "name": "ipython",
    "version": 2
   },
   "file_extension": ".py",
   "mimetype": "text/x-python",
   "name": "python",
   "nbconvert_exporter": "python",
   "pygments_lexer": "ipython2",
   "version": "2.7.15"
  }
 },
 "nbformat": 4,
 "nbformat_minor": 2
}
