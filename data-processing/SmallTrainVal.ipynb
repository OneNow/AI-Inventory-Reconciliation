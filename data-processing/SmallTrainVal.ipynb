{
 "cells": [
  {
   "cell_type": "code",
   "execution_count": 13,
   "metadata": {},
   "outputs": [],
   "source": [
    "import os\n",
    "import json\n",
    "import unicodedata\n",
    "import numpy as np\n",
    "import json\n",
    "import random"
   ]
  },
  {
   "cell_type": "code",
   "execution_count": 23,
   "metadata": {},
   "outputs": [],
   "source": [
    "train_file = '/home/ubuntu/efs/amazon-bin/input/counting_train.json'\n",
    "val_file = '/home/ubuntu/efs/amazon-bin/input/counting_val.json'\n",
    "train_sample = '/home/ubuntu/efs/amazon-bin/input/counting_train_10000.json'\n",
    "val_sample = '/home/ubuntu/efs/amazon-bin/input/counting_val_2000.json'"
   ]
  },
  {
   "cell_type": "code",
   "execution_count": 24,
   "metadata": {},
   "outputs": [],
   "source": [
    "with open(train_file) as f1:\n",
    "          train_list = json.loads(f1.read())\n",
    "\n",
    "#Randomly select 10,000 images for model development and 2000 images for testing\n",
    "random.Random(4).shuffle(train_list)\n",
    "train_list_sample = train_list[0:10000]\n",
    "\n",
    "#Sample training\n",
    "with open(train_sample,'wb') as f2:\n",
    "        json.dump(train_list_sample,f2)\n",
    "        \n",
    "        \n",
    "with open(val_file) as f3:\n",
    "          val_list = json.loads(f3.read())\n",
    "\n",
    "#Randomly select 10,000 images for model development and 2000 images for testing\n",
    "random.Random(4).shuffle(val_list)\n",
    "val_list_sample = val_list[0:2000]\n",
    "\n",
    "#Sample training\n",
    "with open(val_sample,'wb') as f4:\n",
    "        json.dump(val_list_sample,f4)\n",
    "\n",
    "\n"
   ]
  },
  {
   "cell_type": "code",
   "execution_count": 16,
   "metadata": {},
   "outputs": [
    {
     "name": "stdout",
     "output_type": "stream",
     "text": [
      "254\n"
     ]
    }
   ],
   "source": [
    "#Testing if all images exist in resize\n",
    "import skimage.io\n",
    "import os.path\n",
    "\n",
    "with open(_file) as f1:\n",
    "          train_list = json.loads(f1.read())\n",
    "for data in train_list:\n",
    "    img_name = '%05d.jpg' % (data[0])\n",
    "    img = os.path.join('/home/ubuntu/efs/amazon-bin/data/bin-images-resize/', img_name)\n",
    "    try:\n",
    "        img_data = skimage.io.imread(img)\n",
    "    except:\n",
    "        print(data[0])"
   ]
  },
  {
   "cell_type": "code",
   "execution_count": 19,
   "metadata": {},
   "outputs": [
    {
     "name": "stdout",
     "output_type": "stream",
     "text": [
      "[2, 3]\n"
     ]
    }
   ],
   "source": [
    "list = [1,2,3]\n",
    "del list[0]\n",
    "print(list)"
   ]
  },
  {
   "cell_type": "code",
   "execution_count": 21,
   "metadata": {},
   "outputs": [],
   "source": [
    "with open(train_file) as f1:\n",
    "          train_list = json.loads(f1.read())\n",
    "\n",
    "for idx,data in enumerate(train_list):\n",
    "    if data[0] == 253:\n",
    "        del train_list[idx]"
   ]
  },
  {
   "cell_type": "code",
   "execution_count": 22,
   "metadata": {},
   "outputs": [],
   "source": [
    "with open('/home/ubuntu/efs/amazon-bin/input/counting_train_corrected.json','wb') as f2:\n",
    "        json.dump(train_list,f2)"
   ]
  },
  {
   "cell_type": "code",
   "execution_count": null,
   "metadata": {},
   "outputs": [],
   "source": [
    "with open(train_file) as f1:\n",
    "          train_list = json.loads(f1.read())\n",
    "\n",
    "for idx,data in enumerate(train_list):\n",
    "    if data[0] == 253:\n",
    "        del train_list[idx]"
   ]
  }
 ],
 "metadata": {
  "kernelspec": {
   "display_name": "Python 2",
   "language": "python",
   "name": "python2"
  },
  "language_info": {
   "codemirror_mode": {
    "name": "ipython",
    "version": 2
   },
   "file_extension": ".py",
   "mimetype": "text/x-python",
   "name": "python",
   "nbconvert_exporter": "python",
   "pygments_lexer": "ipython2",
   "version": "2.7.12"
  }
 },
 "nbformat": 4,
 "nbformat_minor": 2
}
