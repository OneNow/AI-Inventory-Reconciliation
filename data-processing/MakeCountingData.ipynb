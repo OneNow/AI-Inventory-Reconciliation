{
 "cells": [
  {
   "cell_type": "code",
   "execution_count": 6,
   "metadata": {},
   "outputs": [
    {
     "name": "stdout",
     "output_type": "stream",
     "text": [
      "loading metadata!\n",
      "loading random split file\n",
      "loading random split file\n",
      "dumping train and val sets into json file\n"
     ]
    }
   ],
   "source": [
    "import os\n",
    "import json\n",
    "import unicodedata\n",
    "import numpy as np\n",
    "import json\n",
    "import random\n",
    "\n",
    "# loading metaata\n",
    "random_train = \"/home/ec2-user/SageMaker/efs/amazon-bin/input/random_train.txt\"\n",
    "random_val = \"/home/ec2-user/SageMaker/efs/amazon-bin/input/random_val.txt\"\n",
    "metadata_file = \"/home/ec2-user/SageMaker/efs/amazon-bin/input/metadata.json\"\n",
    "\n",
    "hard = False\n",
    "\n",
    "def get_quantity(idx):\n",
    "    quantity = 0\n",
    "    if metadata[idx]:\n",
    "        quantity = metadata[idx]['EXPECTED_QUANTITY']\n",
    "    return quantity\n",
    "\n",
    "def get_moderate_list(split_file):\n",
    "    print(\"loading random split file\")\n",
    "    train_list = []\n",
    "    with open(split_file) as f:\n",
    "        for line in f.readlines():\n",
    "            idx = int(line)-1\n",
    "            quantity = get_quantity(idx)\n",
    "            if hard:\n",
    "                train_list.append([idx,quantity])\n",
    "            else:\n",
    "                if quantity < 6:\n",
    "                    train_list.append([idx,quantity])\n",
    "    return train_list \n",
    "\n",
    "if __name__ == \"__main__\":\n",
    "    print(\"loading metadata!\")\n",
    "    with open(metadata_file) as json_file:\n",
    "        metadata = json.load(json_file)\n",
    "    N = len(metadata)\n",
    "\n",
    "    train_list = get_moderate_list(random_train)\n",
    "    val_list = get_moderate_list(random_val)\n",
    "\n",
    "    print(\"dumping train and val sets into json file\")\n",
    "    if hard:\n",
    "        out_fname = '/home/ec2-user/SageMaker/efs/amazon-bin/input/counting_train_hard.json'\n",
    "    else:\n",
    "        out_fname = '/home/ec2-user/SageMaker/efs/amazon-bin/input/counting_train.json'\n",
    "    with open(out_fname,'wb') as f:\n",
    "        json.dump(train_list,f)\n",
    "\n",
    "    if hard:\n",
    "        out_fname = '/home/ec2-user/SageMaker/efs/amazon-bin/input/counting_val_hard.json'\n",
    "    else:\n",
    "        out_fname = '/home/ec2-user/SageMaker/efs/amazon-bin/input/counting_val.json'\n",
    "    with open(out_fname,'wb') as f:\n",
    "        json.dump(val_list,f)"
   ]
  },
  {
   "cell_type": "code",
   "execution_count": 2,
   "metadata": {},
   "outputs": [],
   "source": [
    "with open(metadata_file) as json_file:\n",
    "         metadata = json.load(json_file)"
   ]
  },
  {
   "cell_type": "code",
   "execution_count": 5,
   "metadata": {},
   "outputs": [
    {
     "name": "stdout",
     "output_type": "stream",
     "text": [
      "5\n"
     ]
    }
   ],
   "source": [
    "print(metadata[5]['EXPECTED_QUANTITY'])"
   ]
  },
  {
   "cell_type": "code",
   "execution_count": null,
   "metadata": {},
   "outputs": [],
   "source": []
  }
 ],
 "metadata": {
  "kernelspec": {
   "display_name": "conda_python2",
   "language": "python",
   "name": "conda_python2"
  },
  "language_info": {
   "codemirror_mode": {
    "name": "ipython",
    "version": 2
   },
   "file_extension": ".py",
   "mimetype": "text/x-python",
   "name": "python",
   "nbconvert_exporter": "python",
   "pygments_lexer": "ipython2",
   "version": "2.7.15"
  }
 },
 "nbformat": 4,
 "nbformat_minor": 2
}
